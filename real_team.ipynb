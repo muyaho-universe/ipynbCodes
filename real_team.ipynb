{
 "cells": [
  {
   "cell_type": "code",
   "execution_count": 1,
   "id": "6b283346",
   "metadata": {},
   "outputs": [],
   "source": [
    "# pip install sklearn\n",
    "# pip install pandas\n",
    "# pip install matplotlib.pyplot\n",
    "# pip install --upgrade pip\n",
    "#pip install seaborn"
   ]
  },
  {
   "cell_type": "code",
   "execution_count": 2,
   "id": "ae256929",
   "metadata": {},
   "outputs": [
    {
     "data": {
      "text/html": [
       "<div>\n",
       "<style scoped>\n",
       "    .dataframe tbody tr th:only-of-type {\n",
       "        vertical-align: middle;\n",
       "    }\n",
       "\n",
       "    .dataframe tbody tr th {\n",
       "        vertical-align: top;\n",
       "    }\n",
       "\n",
       "    .dataframe thead th {\n",
       "        text-align: right;\n",
       "    }\n",
       "</style>\n",
       "<table border=\"1\" class=\"dataframe\">\n",
       "  <thead>\n",
       "    <tr style=\"text-align: right;\">\n",
       "      <th></th>\n",
       "      <th>NOF</th>\n",
       "      <th>NOPF</th>\n",
       "      <th>NOM</th>\n",
       "      <th>NOPM</th>\n",
       "      <th>LOC</th>\n",
       "      <th>WMC</th>\n",
       "      <th>NC</th>\n",
       "      <th>DIT</th>\n",
       "      <th>LCOM</th>\n",
       "      <th>FANIN</th>\n",
       "      <th>FANOUT</th>\n",
       "      <th>Magic Number</th>\n",
       "    </tr>\n",
       "    <tr>\n",
       "      <th>Type Name</th>\n",
       "      <th></th>\n",
       "      <th></th>\n",
       "      <th></th>\n",
       "      <th></th>\n",
       "      <th></th>\n",
       "      <th></th>\n",
       "      <th></th>\n",
       "      <th></th>\n",
       "      <th></th>\n",
       "      <th></th>\n",
       "      <th></th>\n",
       "      <th></th>\n",
       "    </tr>\n",
       "  </thead>\n",
       "  <tbody>\n",
       "    <tr>\n",
       "      <th>CachedThreadPool</th>\n",
       "      <td>0</td>\n",
       "      <td>0</td>\n",
       "      <td>1</td>\n",
       "      <td>1</td>\n",
       "      <td>12</td>\n",
       "      <td>2</td>\n",
       "      <td>0</td>\n",
       "      <td>0</td>\n",
       "      <td>-1.0</td>\n",
       "      <td>0</td>\n",
       "      <td>0</td>\n",
       "      <td>1</td>\n",
       "    </tr>\n",
       "    <tr>\n",
       "      <th>Sleeper</th>\n",
       "      <td>1</td>\n",
       "      <td>0</td>\n",
       "      <td>2</td>\n",
       "      <td>2</td>\n",
       "      <td>21</td>\n",
       "      <td>2</td>\n",
       "      <td>0</td>\n",
       "      <td>0</td>\n",
       "      <td>0.0</td>\n",
       "      <td>0</td>\n",
       "      <td>0</td>\n",
       "      <td>0</td>\n",
       "    </tr>\n",
       "    <tr>\n",
       "      <th>Joiner</th>\n",
       "      <td>1</td>\n",
       "      <td>0</td>\n",
       "      <td>2</td>\n",
       "      <td>2</td>\n",
       "      <td>17</td>\n",
       "      <td>2</td>\n",
       "      <td>0</td>\n",
       "      <td>0</td>\n",
       "      <td>0.0</td>\n",
       "      <td>0</td>\n",
       "      <td>0</td>\n",
       "      <td>0</td>\n",
       "    </tr>\n",
       "    <tr>\n",
       "      <th>Joining</th>\n",
       "      <td>0</td>\n",
       "      <td>0</td>\n",
       "      <td>1</td>\n",
       "      <td>1</td>\n",
       "      <td>7</td>\n",
       "      <td>1</td>\n",
       "      <td>0</td>\n",
       "      <td>0</td>\n",
       "      <td>-1.0</td>\n",
       "      <td>0</td>\n",
       "      <td>0</td>\n",
       "      <td>1</td>\n",
       "    </tr>\n",
       "    <tr>\n",
       "      <th>FixedThreadPool</th>\n",
       "      <td>0</td>\n",
       "      <td>0</td>\n",
       "      <td>1</td>\n",
       "      <td>1</td>\n",
       "      <td>12</td>\n",
       "      <td>2</td>\n",
       "      <td>0</td>\n",
       "      <td>0</td>\n",
       "      <td>-1.0</td>\n",
       "      <td>0</td>\n",
       "      <td>0</td>\n",
       "      <td>1</td>\n",
       "    </tr>\n",
       "    <tr>\n",
       "      <th>Interrupting</th>\n",
       "      <td>1</td>\n",
       "      <td>0</td>\n",
       "      <td>2</td>\n",
       "      <td>1</td>\n",
       "      <td>21</td>\n",
       "      <td>2</td>\n",
       "      <td>0</td>\n",
       "      <td>0</td>\n",
       "      <td>0.0</td>\n",
       "      <td>1</td>\n",
       "      <td>1</td>\n",
       "      <td>1</td>\n",
       "    </tr>\n",
       "    <tr>\n",
       "      <th>SleepBlocked</th>\n",
       "      <td>0</td>\n",
       "      <td>0</td>\n",
       "      <td>1</td>\n",
       "      <td>1</td>\n",
       "      <td>14</td>\n",
       "      <td>1</td>\n",
       "      <td>0</td>\n",
       "      <td>0</td>\n",
       "      <td>-1.0</td>\n",
       "      <td>0</td>\n",
       "      <td>0</td>\n",
       "      <td>1</td>\n",
       "    </tr>\n",
       "    <tr>\n",
       "      <th>IOBlocked</th>\n",
       "      <td>1</td>\n",
       "      <td>0</td>\n",
       "      <td>2</td>\n",
       "      <td>2</td>\n",
       "      <td>21</td>\n",
       "      <td>3</td>\n",
       "      <td>0</td>\n",
       "      <td>0</td>\n",
       "      <td>0.0</td>\n",
       "      <td>0</td>\n",
       "      <td>0</td>\n",
       "      <td>0</td>\n",
       "    </tr>\n",
       "    <tr>\n",
       "      <th>SynchronizedBlocked</th>\n",
       "      <td>0</td>\n",
       "      <td>0</td>\n",
       "      <td>4</td>\n",
       "      <td>4</td>\n",
       "      <td>18</td>\n",
       "      <td>5</td>\n",
       "      <td>0</td>\n",
       "      <td>0</td>\n",
       "      <td>-1.0</td>\n",
       "      <td>0</td>\n",
       "      <td>0</td>\n",
       "      <td>0</td>\n",
       "    </tr>\n",
       "    <tr>\n",
       "      <th>ToastOMatic</th>\n",
       "      <td>0</td>\n",
       "      <td>0</td>\n",
       "      <td>1</td>\n",
       "      <td>1</td>\n",
       "      <td>12</td>\n",
       "      <td>1</td>\n",
       "      <td>0</td>\n",
       "      <td>0</td>\n",
       "      <td>-1.0</td>\n",
       "      <td>0</td>\n",
       "      <td>0</td>\n",
       "      <td>1</td>\n",
       "    </tr>\n",
       "  </tbody>\n",
       "</table>\n",
       "</div>"
      ],
      "text/plain": [
       "                     NOF  NOPF  NOM  NOPM  LOC  WMC  NC  DIT  LCOM  FANIN  \\\n",
       "Type Name                                                                   \n",
       "CachedThreadPool       0     0    1     1   12    2   0    0  -1.0      0   \n",
       "Sleeper                1     0    2     2   21    2   0    0   0.0      0   \n",
       "Joiner                 1     0    2     2   17    2   0    0   0.0      0   \n",
       "Joining                0     0    1     1    7    1   0    0  -1.0      0   \n",
       "FixedThreadPool        0     0    1     1   12    2   0    0  -1.0      0   \n",
       "Interrupting           1     0    2     1   21    2   0    0   0.0      1   \n",
       "SleepBlocked           0     0    1     1   14    1   0    0  -1.0      0   \n",
       "IOBlocked              1     0    2     2   21    3   0    0   0.0      0   \n",
       "SynchronizedBlocked    0     0    4     4   18    5   0    0  -1.0      0   \n",
       "ToastOMatic            0     0    1     1   12    1   0    0  -1.0      0   \n",
       "\n",
       "                     FANOUT  Magic Number  \n",
       "Type Name                                  \n",
       "CachedThreadPool          0             1  \n",
       "Sleeper                   0             0  \n",
       "Joiner                    0             0  \n",
       "Joining                   0             1  \n",
       "FixedThreadPool           0             1  \n",
       "Interrupting              1             1  \n",
       "SleepBlocked              0             1  \n",
       "IOBlocked                 0             0  \n",
       "SynchronizedBlocked       0             0  \n",
       "ToastOMatic               0             1  "
      ]
     },
     "execution_count": 2,
     "metadata": {},
     "output_type": "execute_result"
    }
   ],
   "source": [
    "import pickle\n",
    "import pandas as pd\n",
    "import numpy as np\n",
    "import matplotlib.pyplot as plt\n",
    "\n",
    "df = pd.read_csv('metrics.csv')\n",
    "df = df.drop_duplicates(subset=['Type Name'])\n",
    "df = df.drop(['Project.Package Name', 'Method Name', 'MLOC', 'CC', 'PC', 'Abstract Function Call From Constructor', 'Complex Conditional', \n",
    "              'Complex Method', 'Empty catch clause', 'Long Identifier', 'Long Method', 'Long Parameter List',\n",
    "              'Long Statement', 'Missing default', 'Deficient encapsulation', 'Unexploited modularization',\n",
    "             'Broken modularization', 'Cyclically-dependent modularization', 'Hub-like modularization', 'Insufficient modularization',\n",
    "             'Broken hierarchy', 'Cyclic hierarchy', 'Deep hierarchy', 'Missing hierarchy','Missing hierarchy',\n",
    "             'Multipath hierarchy', 'Rebellious hierarchy', 'Wide hierarchy'], axis=1)\n",
    "\n",
    "df.set_index('Type Name', inplace = True)\n",
    "# for decision tree making, don't need for library\n",
    "# train_data = df.values.tolist()\n",
    "# train_data = train_data[10000: 50000] \n",
    "\n",
    "df[:10]"
   ]
  },
  {
   "cell_type": "code",
   "execution_count": 3,
   "id": "22396672",
   "metadata": {},
   "outputs": [],
   "source": [
    "# 40000 train set, 10000 test set\n",
    "train_x = df.iloc[10000:50000,0:11]\n",
    "train_y = df.iloc[10000:50000,11:12]\n",
    "test_x = df.iloc[:10000,0:11]\n",
    "test_y = df.iloc[:10000,11:12]\n",
    "\n",
    "# 50000 train set, 20000 test set\n",
    "train_x2 = df.iloc[50000:100000,0:11]\n",
    "train_y2 = df.iloc[50000:100000,11:12]\n",
    "test_x2 = df.iloc[:20000,0:11]\n",
    "test_y2 = df.iloc[:20000,11:12]"
   ]
  },
  {
   "cell_type": "code",
   "execution_count": 5,
   "id": "76fb75e1",
   "metadata": {},
   "outputs": [
    {
     "data": {
      "text/plain": [
       "RandomForestClassifier(random_state=0)"
      ]
     },
     "execution_count": 5,
     "metadata": {},
     "output_type": "execute_result"
    }
   ],
   "source": [
    "# Randomforest-number of train set: 40000/ test set: 10000\n",
    "\n",
    "from sklearn.ensemble import RandomForestClassifier\n",
    "\n",
    "rforest = RandomForestClassifier(random_state=0)\n",
    "rforest.fit(train_x, train_y.values.ravel())"
   ]
  },
  {
   "cell_type": "code",
   "execution_count": 6,
   "id": "a429f80e",
   "metadata": {},
   "outputs": [
    {
     "name": "stdout",
     "output_type": "stream",
     "text": [
      "Test set score : 0.83\n"
     ]
    }
   ],
   "source": [
    "print(\"Test set score : {:.2f}\".format(rforest.score(test_x, test_y)))"
   ]
  },
  {
   "cell_type": "code",
   "execution_count": 7,
   "id": "ed63fe85",
   "metadata": {},
   "outputs": [
    {
     "data": {
      "image/png": "[encoded data removed]",
      "text/plain": [
       "<Figure size 720x504 with 2 Axes>"
      ]
     },
     "metadata": {
      "needs_background": "light"
     },
     "output_type": "display_data"
    }
   ],
   "source": [
    "# Confusion matrix for rforest\n",
    "\n",
    "from sklearn.metrics import confusion_matrix\n",
    "import seaborn as sn\n",
    "\n",
    "pred_y = rforest.predict(test_x)\n",
    "rtree_cmd = confusion_matrix(test_y, pred_y)\n",
    "\n",
    "plt.figure(figsize=(10, 7))\n",
    "sn.heatmap(rtree_cmd, annot=True, fmt='d')\n",
    "\n",
    "plt.title(\"< CONFUSION MATRIX >\")\n",
    "plt.ylabel('Predicted label')\n",
    "plt.xlabel('True label')\n",
    "\n",
    "plt.show()"
   ]
  },
  {
   "cell_type": "code",
   "execution_count": 8,
   "id": "00e5cf22",
   "metadata": {},
   "outputs": [
    {
     "data": {
      "text/plain": [
       "RandomForestClassifier(random_state=0)"
      ]
     },
     "execution_count": 8,
     "metadata": {},
     "output_type": "execute_result"
    }
   ],
   "source": [
    "# Randomforest-number of train set: 50000/ test set: 10000\n",
    "rforest2 = RandomForestClassifier(random_state=0)\n",
    "rforest2.fit(train_x2, train_y2.values.ravel())"
   ]
  },
  {
   "cell_type": "code",
   "execution_count": 9,
   "id": "370d06fb",
   "metadata": {},
   "outputs": [
    {
     "name": "stdout",
     "output_type": "stream",
     "text": [
      "Test set score : 0.83\n"
     ]
    }
   ],
   "source": [
    "print(\"Test set score : {:.2f}\".format(rforest2.score(test_x, test_y)))"
   ]
  },
  {
   "cell_type": "code",
   "execution_count": 11,
   "id": "58563c1f",
   "metadata": {},
   "outputs": [
    {
     "name": "stdout",
     "output_type": "stream",
     "text": [
      "Test set score : 0.86\n"
     ]
    }
   ],
   "source": [
    "# Randomforest-number of train set: 50000/ test set: 20000\n",
    "print(\"Test set score : {:.2f}\".format(rforest2.score(test_x2, test_y2)))"
   ]
  },
  {
   "cell_type": "code",
   "execution_count": 12,
   "id": "03d1cdf7",
   "metadata": {},
   "outputs": [
    {
     "data": {
      "text/plain": [
       "RandomForestClassifier(random_state=0)"
      ]
     },
     "execution_count": 12,
     "metadata": {},
     "output_type": "execute_result"
    }
   ],
   "source": [
    "# Randomforest-number of train set: 40000/ test set: 20000\n",
    "\n",
    "rforest3 = RandomForestClassifier(random_state=0)\n",
    "rforest3.fit(train_x, train_y.values.ravel())"
   ]
  },
  {
   "cell_type": "code",
   "execution_count": 13,
   "id": "d3af889e",
   "metadata": {},
   "outputs": [
    {
     "name": "stdout",
     "output_type": "stream",
     "text": [
      "Test set score : 0.91\n"
     ]
    }
   ],
   "source": [
    "print(\"Test set score : {:.2f}\".format(rforest3.score(test_x2, test_y2)))"
   ]
  },
  {
   "cell_type": "code",
   "execution_count": 14,
   "id": "60a8947d",
   "metadata": {},
   "outputs": [
    {
     "data": {
      "text/plain": [
       "DecisionTreeClassifier(random_state=0)"
      ]
     },
     "execution_count": 14,
     "metadata": {},
     "output_type": "execute_result"
    }
   ],
   "source": [
    "# DecsisiontTree following\n",
    "\n",
    "from sklearn.tree import DecisionTreeClassifier\n",
    "\n",
    "decisionTree = DecisionTreeClassifier(random_state=0)\n",
    "decisionTree.fit(train_x, train_y.values.ravel())"
   ]
  },
  {
   "cell_type": "code",
   "execution_count": 15,
   "id": "325e3d79",
   "metadata": {},
   "outputs": [
    {
     "name": "stdout",
     "output_type": "stream",
     "text": [
      "Test set score : 0.79\n"
     ]
    }
   ],
   "source": [
    "print(\"Test set score : {:.2f}\".format(decisionTree.score(test_x, test_y)))"
   ]
  },
  {
   "cell_type": "code",
   "execution_count": 16,
   "id": "80ac6b66",
   "metadata": {},
   "outputs": [
    {
     "data": {
      "image/png": "[encoded data removed]",
      "text/plain": [
       "<Figure size 720x504 with 2 Axes>"
      ]
     },
     "metadata": {
      "needs_background": "light"
     },
     "output_type": "display_data"
    }
   ],
   "source": [
    "from sklearn.metrics import confusion_matrix\n",
    "import seaborn as sn\n",
    "\n",
    "pred_y = decisionTree.predict(test_x)\n",
    "cmdtree = confusion_matrix(test_y, pred_y)\n",
    "\n",
    "plt.figure(figsize=(10, 7))\n",
    "sn.heatmap(cmdtree, annot=True, fmt='d')\n",
    "\n",
    "plt.title(\"< CONFUSION MATRIX >\")\n",
    "plt.ylabel('Predicted label')\n",
    "plt.xlabel('True label')\n",
    "\n",
    "plt.show()"
   ]
  },
  {
   "cell_type": "code",
   "execution_count": null,
   "id": "7102c9f6",
   "metadata": {},
   "outputs": [],
   "source": []
  }
 ],
 "metadata": {
  "kernelspec": {
   "display_name": "Python 3 (ipykernel)",
   "language": "python",
   "name": "python3"
  },
  "language_info": {
   "codemirror_mode": {
    "name": "ipython",
    "version": 3
   },
   "file_extension": ".py",
   "mimetype": "text/x-python",
   "name": "python",
   "nbconvert_exporter": "python",
   "pygments_lexer": "ipython3",
   "version": "3.9.7"
  }
 },
 "nbformat": 4,
 "nbformat_minor": 5
}
